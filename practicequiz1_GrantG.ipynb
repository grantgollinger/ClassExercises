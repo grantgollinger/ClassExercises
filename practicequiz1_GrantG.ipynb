{
  "nbformat": 4,
  "nbformat_minor": 0,
  "metadata": {
    "colab": {
      "provenance": [],
      "authorship_tag": "ABX9TyO45JR5UAlmgYqMImKJq7Gd",
      "include_colab_link": true
    },
    "kernelspec": {
      "name": "python3",
      "display_name": "Python 3"
    },
    "language_info": {
      "name": "python"
    }
  },
  "cells": [
    {
      "cell_type": "markdown",
      "metadata": {
        "id": "view-in-github",
        "colab_type": "text"
      },
      "source": [
        "<a href=\"https://colab.research.google.com/github/grantgollinger/ClassExercises/blob/main/practicequiz1_GrantG.ipynb\" target=\"_parent\"><img src=\"https://colab.research.google.com/assets/colab-badge.svg\" alt=\"Open In Colab\"/></a>"
      ]
    },
    {
      "cell_type": "code",
      "execution_count": 4,
      "metadata": {
        "colab": {
          "base_uri": "https://localhost:8080/"
        },
        "id": "BnLn14NlQSHQ",
        "outputId": "2f4bf4b3-ab28-40b8-cb2a-22601ad8416e"
      },
      "outputs": [
        {
          "output_type": "stream",
          "name": "stdout",
          "text": [
            "13\n",
            "73\n",
            "Area is 949.0\n",
            "Perimeter is 172.0\n"
          ]
        }
      ],
      "source": [
        "Height = float(input())\n",
        "Width = float(input())\n",
        "Area = Width * Height\n",
        "Perimeter = 2*(Width + Height)\n",
        "print('Area is', Area)\n",
        "print('Perimeter is', Perimeter)\n"
      ]
    },
    {
      "cell_type": "code",
      "source": [
        "Weight = int(input())\n",
        "Height = int(input())\n",
        "BMI = (Weight / (Height * Height)) * 703\n",
        "print('The BMI of you with weight {:.1f} and height {:.3f} is {:.2f} \\n'.format (Weight, Height, BMI))\n"
      ],
      "metadata": {
        "colab": {
          "base_uri": "https://localhost:8080/"
        },
        "id": "algA0eW5VKnR",
        "outputId": "a9fcee8f-8dd6-416a-f5f9-5bcb9377eaf1"
      },
      "execution_count": 22,
      "outputs": [
        {
          "output_type": "stream",
          "name": "stdout",
          "text": [
            "600\n",
            "71\n",
            "your BMI is 83.67387423130332\n",
            "The BMI of you with weight 600.0 and height 71.000 is 83.67 \n",
            "\n"
          ]
        }
      ]
    }
  ]
}